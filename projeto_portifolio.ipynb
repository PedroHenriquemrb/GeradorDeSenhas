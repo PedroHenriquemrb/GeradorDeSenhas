{
  "nbformat": 4,
  "nbformat_minor": 0,
  "metadata": {
    "colab": {
      "provenance": [],
      "authorship_tag": "ABX9TyPnja+jx9i4IR2h1klkXoMN",
      "include_colab_link": true
    },
    "kernelspec": {
      "name": "python3",
      "display_name": "Python 3"
    },
    "language_info": {
      "name": "python"
    }
  },
  "cells": [
    {
      "cell_type": "markdown",
      "metadata": {
        "id": "view-in-github",
        "colab_type": "text"
      },
      "source": [
        "<a href=\"https://colab.research.google.com/github/PedroHenriquemrb/GeradorDeSenhas/blob/main/projeto_portifolio.ipynb\" target=\"_parent\"><img src=\"https://colab.research.google.com/assets/colab-badge.svg\" alt=\"Open In Colab\"/></a>"
      ]
    },
    {
      "cell_type": "code",
      "execution_count": 1,
      "metadata": {
        "id": "AiRzWYrT4tJt",
        "colab": {
          "base_uri": "https://localhost:8080/"
        },
        "outputId": "fff9dba2-6a4c-49f3-f95f-3f17fc44feb5"
      },
      "outputs": [
        {
          "output_type": "stream",
          "name": "stdout",
          "text": [
            "gerador de senhas\n",
            "quantas letras quer em sua senha?\n",
            "5\n",
            "quantos simbolos quer em sua senha?\n",
            "5\n",
            "quantos numeros quem em sua senha?\n",
            "5\n",
            "sua senha é: 9e8J$9^AS4w9+_%\n"
          ]
        }
      ],
      "source": [
        "import random\n",
        "letters = ['a', 'b', 'c', 'ç', 'd', 'e', 'f', 'g', 'h', 'i', 'j', 'k', 'l', 'm', 'n', 'o', 'p', 'q', 'r', 's', 't', 'u', 'v', 'w', 'x', 'y', 'z', 'A', 'B', 'C', 'ç', 'D', 'E', 'F', 'G', 'H', 'I', 'J', 'K', 'L', 'M', 'N', 'O', 'P', 'Q', 'R', 'S', 'T', 'U', 'V', 'W', 'X', 'Y', 'Z']\n",
        "numbers = ['0', '1', '2', '3', '4', '5', '6', '7', '8', '9']\n",
        "symbols = ['!', '#', '$', '%', '&', '(', ')', '*', '+', '>', '<', '^', '~', '@', '-', '_','`', '/', '|', 'ª', 'º', '¿',]\n",
        "\n",
        "print(\"gerador de senhas\")\n",
        "nr_letters= int(input(\"quantas letras quer em sua senha?\\n\"))\n",
        "\n",
        "nr_symbols = int(input(f\"quantos simbolos quer em sua senha?\\n\"))\n",
        "\n",
        "nr_numbers = int(input(f\"quantos numeros quem em sua senha?\\n\"))\n",
        "\n",
        "password_list = []\n",
        "\n",
        "for char in range(1, nr_letters + 1):\n",
        "  password_list.append(random.choice(letters))\n",
        "\n",
        "for char in range(1, nr_symbols + 1):\n",
        "  password_list += random.choice(symbols)\n",
        "\n",
        "for char in range(1, nr_numbers + 1):\n",
        "  password_list += random.choice(numbers)\n",
        "\n",
        "  random.shuffle(password_list)\n",
        "\n",
        "password = \"\"\n",
        "for char in password_list:\n",
        "  password += char\n",
        "\n",
        "print(f\"sua senha é: {password}\")\n"
      ]
    }
  ]
}